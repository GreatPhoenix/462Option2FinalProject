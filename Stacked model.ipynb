{
 "cells": [
  {
   "cell_type": "code",
   "execution_count": 297,
   "id": "5e814081",
   "metadata": {},
   "outputs": [],
   "source": [
    "# import libraries\n",
    "import pandas as pd\n",
    "from sklearn.model_selection import train_test_split\n",
    "from sklearn.metrics import accuracy_score\n",
    "from sklearn.tree import DecisionTreeClassifier\n",
    "from sklearn.neural_network import MLPClassifier\n",
    "from sklearn.ensemble import StackingClassifier\n",
    "from sklearn.linear_model import LogisticRegression"
   ]
  },
  {
   "cell_type": "code",
   "execution_count": 298,
   "id": "a0f10641",
   "metadata": {},
   "outputs": [
    {
     "name": "stdout",
     "output_type": "stream",
     "text": [
      "    Liked\n",
      "0       0\n",
      "1       0\n",
      "2       0\n",
      "3       1\n",
      "4       0\n",
      "5       1\n",
      "6       1\n",
      "7       1\n",
      "8       1\n",
      "9       1\n",
      "10      0\n",
      "11      1\n",
      "12      1\n",
      "13      0\n",
      "14      1\n",
      "15      0\n",
      "16      1\n",
      "17      0\n",
      "18      0\n",
      "19      1\n",
      "20      0\n",
      "21      0\n",
      "22      1\n",
      "23      1\n",
      "24      0\n",
      "25      0\n",
      "26      1\n",
      "27      1\n",
      "28      0\n",
      "29      0\n",
      "30      1\n",
      "31      1\n",
      "32      1\n",
      "33      1\n",
      "34      0\n",
      "35      0\n",
      "36      1\n",
      "37      0\n",
      "38      1\n",
      "39      0\n",
      "40      0\n",
      "41      1\n",
      "42      1\n",
      "43      1\n",
      "44      0\n",
      "45      0\n",
      "46      0\n",
      "47      0\n",
      "48      1\n",
      "49      0\n"
     ]
    }
   ],
   "source": [
    "# combine both DT and NN csv's\n",
    "df = pd.concat(map(pd.read_csv, ['DT_out_new.csv', 'NN_out_new.csv']), ignore_index=False)\n",
    "new_output = df.to_csv(\"new_ouput.csv\")\n",
    "df2 = pd.read_csv(\"new_ouput.csv\")\n",
    "\n",
    "# drop the second index column\n",
    "df2 = df2.drop(columns=['Unnamed: 0'])\n",
    "print(df2)\n",
    "\n",
    "# splits\n",
    "X_train, Y_test, y_train, y_test = train_test_split(df2, df2[\"Liked\"], test_size=.20)\n",
    "# print(\"y_test\")\n",
    "# print(y_test)"
   ]
  },
  {
   "cell_type": "code",
   "execution_count": 299,
   "id": "c80567ab",
   "metadata": {},
   "outputs": [
    {
     "name": "stdout",
     "output_type": "stream",
     "text": [
      "Training Set Accuracy: 1.0\n",
      "Test Set Accuracy: 0.6\n"
     ]
    }
   ],
   "source": [
    "# Decision Tree Classifier - 5 levels in tree\n",
    "dt = DecisionTreeClassifier(max_depth=5) \n",
    "# Fit DT to the training data\n",
    "dt.fit(X_train, y_train) \n",
    "\n",
    "# Make predictions of X train to test to the accuracy of Y train and test\n",
    "y_train_pred = dt.predict(X_train)\n",
    "y_test_pred = dt.predict(X_test)\n",
    "\n",
    "# Train and Test set - Accuracy\n",
    "dt_train_accuracy = accuracy_score(y_train, y_train_pred) \n",
    "dt_test_accuracy = accuracy_score(y_test, y_test_pred)\n",
    "\n",
    "print('Training Set Accuracy: %s' % dt_train_accuracy)\n",
    "print('Test Set Accuracy: %s' % dt_test_accuracy)"
   ]
  },
  {
   "cell_type": "code",
   "execution_count": 300,
   "id": "0f9e8843",
   "metadata": {},
   "outputs": [
    {
     "name": "stdout",
     "output_type": "stream",
     "text": [
      "Training Set Accuracy: 1.0\n",
      "Test Set Accuracy: 0.6\n"
     ]
    }
   ],
   "source": [
    "# Multilayer Perceptron Classifier - \n",
    "mlp = MLPClassifier(alpha=1, max_iter=1000)\n",
    "mlp.fit(X_train, y_train)\n",
    "\n",
    "# Predictions\n",
    "y_train_pred = mlp.predict(X_train)\n",
    "y_test_pred = mlp.predict(X_test)\n",
    "\n",
    "# Training and Test set - Accuracy\n",
    "mlp_train_accuracy = accuracy_score(y_train, y_train_pred) \n",
    "mlp_test_accuracy = accuracy_score(y_test, y_test_pred) \n",
    "\n",
    "print('Training Set Accuracy: %s' % mlp_train_accuracy)\n",
    "print('Test Set Accuracy: %s' % mlp_test_accuracy)"
   ]
  },
  {
   "cell_type": "code",
   "execution_count": 301,
   "id": "760de793",
   "metadata": {},
   "outputs": [
    {
     "name": "stdout",
     "output_type": "stream",
     "text": [
      "Training Set Accuracy: 1.0\n",
      "Test Set Accuracy: 0.6\n"
     ]
    }
   ],
   "source": [
    "model_list = [('dt',dt),('mlp',mlp) ]\n",
    "\n",
    "# Stack model\n",
    "stack_model = StackingClassifier(estimators=model_list, final_estimator=LogisticRegression())\n",
    "\n",
    "# Fit stacked_model to the training data\n",
    "stack_model.fit(X_train, y_train)\n",
    "\n",
    "# Predictions\n",
    "y_train_pred = stack_model.predict(X_train)\n",
    "y_test_pred = stack_model.predict(X_test)\n",
    "\n",
    "# Training and Test set - Accuracy\n",
    "stack_train_accuracy = accuracy_score(y_train, y_train_pred) \n",
    "stack_test_accuracy = accuracy_score(y_test, y_test_pred) \n",
    "\n",
    "print('Training Set Accuracy: %s' % stack_train_accuracy)\n",
    "print('Test Set Accuracy: %s' % stack_test_accuracy)"
   ]
  },
  {
   "cell_type": "code",
   "execution_count": 302,
   "id": "f04e94a8",
   "metadata": {},
   "outputs": [],
   "source": [
    "# Accuracy Train List\n",
    "acc_train_list = {\n",
    "'dt': dt_train_accuracy,\n",
    "'mlp': mlp_train_accuracy,\n",
    "'stack': stack_model_train_accuracy}\n",
    "\n",
    "# Accuracy Test List\n",
    "acc_test_list = {\n",
    "'dt': dt_test_accuracy,\n",
    "'mlp': mlp_test_accuracy,\n",
    "'stack': stack_model_test_accuracy}"
   ]
  },
  {
   "cell_type": "code",
   "execution_count": 303,
   "id": "b711cb87",
   "metadata": {},
   "outputs": [],
   "source": [
    "acc_df = pd.DataFrame.from_dict(acc_test_list, orient='index', columns=['Accuracy'])\n",
    "acc_df\n",
    "acc_df.to_csv('Stacked Results.csv')"
   ]
  }
 ],
 "metadata": {
  "kernelspec": {
   "display_name": "Python 3 (ipykernel)",
   "language": "python",
   "name": "python3"
  },
  "language_info": {
   "codemirror_mode": {
    "name": "ipython",
    "version": 3
   },
   "file_extension": ".py",
   "mimetype": "text/x-python",
   "name": "python",
   "nbconvert_exporter": "python",
   "pygments_lexer": "ipython3",
   "version": "3.9.7"
  }
 },
 "nbformat": 4,
 "nbformat_minor": 5
}
